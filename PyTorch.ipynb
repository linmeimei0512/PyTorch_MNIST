{
 "cells": [
  {
   "cell_type": "markdown",
   "id": "c51a6f14",
   "metadata": {},
   "source": [
    "# Import PyTorch"
   ]
  },
  {
   "cell_type": "code",
   "execution_count": 1,
   "id": "752c8399",
   "metadata": {
    "scrolled": true
   },
   "outputs": [],
   "source": [
    "import torch"
   ]
  },
  {
   "cell_type": "markdown",
   "id": "f8bfb3c1",
   "metadata": {},
   "source": [
    "# Check CUDA available"
   ]
  },
  {
   "cell_type": "code",
   "execution_count": 2,
   "id": "53811700",
   "metadata": {},
   "outputs": [
    {
     "name": "stdout",
     "output_type": "stream",
     "text": [
      "CUDA available:  True\n"
     ]
    }
   ],
   "source": [
    "print('CUDA available: ', torch.cuda.is_available())"
   ]
  },
  {
   "cell_type": "markdown",
   "id": "44701bb9",
   "metadata": {},
   "source": [
    "# Show CUDA and cuDNN version"
   ]
  },
  {
   "cell_type": "code",
   "execution_count": 3,
   "id": "3706eb4a",
   "metadata": {},
   "outputs": [
    {
     "name": "stdout",
     "output_type": "stream",
     "text": [
      "CUDA version:  11.0\n",
      "cuDNN version:  8004\n"
     ]
    }
   ],
   "source": [
    "print('CUDA version: ', torch.version.cuda)\n",
    "print('cuDNN version: ', torch.backends.cudnn.version())"
   ]
  },
  {
   "cell_type": "markdown",
   "id": "9a779352",
   "metadata": {},
   "source": [
    "# Show PyTorch version "
   ]
  },
  {
   "cell_type": "code",
   "execution_count": 4,
   "id": "1b55aa69",
   "metadata": {},
   "outputs": [
    {
     "name": "stdout",
     "output_type": "stream",
     "text": [
      "PyTorch version:  1.7.0\n"
     ]
    }
   ],
   "source": [
    "print('PyTorch version: ', torch.__version__)"
   ]
  },
  {
   "cell_type": "code",
   "execution_count": null,
   "id": "70c5697f",
   "metadata": {},
   "outputs": [],
   "source": []
  }
 ],
 "metadata": {
  "kernelspec": {
   "display_name": "Python 3",
   "language": "python",
   "name": "python3"
  },
  "language_info": {
   "codemirror_mode": {
    "name": "ipython",
    "version": 3
   },
   "file_extension": ".py",
   "mimetype": "text/x-python",
   "name": "python",
   "nbconvert_exporter": "python",
   "pygments_lexer": "ipython3",
   "version": "3.6.13"
  }
 },
 "nbformat": 4,
 "nbformat_minor": 5
}
